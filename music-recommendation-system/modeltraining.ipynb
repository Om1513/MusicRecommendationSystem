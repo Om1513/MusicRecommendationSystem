{
  "cells": [
    {
      "cell_type": "markdown",
      "metadata": {
        "id": "x4_Fv8TCHJlt"
      },
      "source": [
        "## Importing Libraries"
      ]
    },
    {
      "cell_type": "code",
      "execution_count": null,
      "metadata": {
        "id": "cUlcGau2HJlw"
      },
      "outputs": [],
      "source": [
        "import pandas as pd\n",
        "from langdetect import detect\n",
        "import nltk\n",
        "from nltk.stem.porter import PorterStemmer\n",
        "from sklearn.feature_extraction.text import TfidfVectorizer\n",
        "from sklearn.metrics.pairwise import cosine_similarity\n",
        "import pickle"
      ]
    },
    {
      "cell_type": "code",
      "execution_count": null,
      "metadata": {
        "id": "G7GuXZbKHJlx",
        "outputId": "7a79980f-b3ec-4bba-b5d0-6fafc5b683c9"
      },
      "outputs": [
        {
          "data": {
            "text/html": [
              "<div>\n",
              "<style scoped>\n",
              "    .dataframe tbody tr th:only-of-type {\n",
              "        vertical-align: middle;\n",
              "    }\n",
              "\n",
              "    .dataframe tbody tr th {\n",
              "        vertical-align: top;\n",
              "    }\n",
              "\n",
              "    .dataframe thead th {\n",
              "        text-align: right;\n",
              "    }\n",
              "</style>\n",
              "<table border=\"1\" class=\"dataframe\">\n",
              "  <thead>\n",
              "    <tr style=\"text-align: right;\">\n",
              "      <th></th>\n",
              "      <th>artist</th>\n",
              "      <th>song</th>\n",
              "      <th>lyrics</th>\n",
              "    </tr>\n",
              "  </thead>\n",
              "  <tbody>\n",
              "    <tr>\n",
              "      <th>0</th>\n",
              "      <td>Diljit Dosanjh</td>\n",
              "      <td>Naina (From \"Crew\")</td>\n",
              "      <td>Verse 1: Diljit Dosanjh Ho, ruthiya khuda-khud...</td>\n",
              "    </tr>\n",
              "    <tr>\n",
              "      <th>1</th>\n",
              "      <td>Aashir Wajahat</td>\n",
              "      <td>Sadqay</td>\n",
              "      <td>Verse 1: NAYEL تھوڑا سا تو فاصلہ رکھ آس نہ رکھ...</td>\n",
              "    </tr>\n",
              "    <tr>\n",
              "      <th>2</th>\n",
              "      <td>Charly Black</td>\n",
              "      <td>Gyal You a Party Animal</td>\n",
              "      <td>Intro Its Charly My girl, come flip it like a ...</td>\n",
              "    </tr>\n",
              "    <tr>\n",
              "      <th>3</th>\n",
              "      <td>Shaan</td>\n",
              "      <td>You're My Love</td>\n",
              "      <td>Verse 1: Lizzy,  Nana  I think I’ve fallen, I ...</td>\n",
              "    </tr>\n",
              "    <tr>\n",
              "      <th>4</th>\n",
              "      <td>Sushin Shyam</td>\n",
              "      <td>Illuminati - From \"Aavesham\"</td>\n",
              "      <td>Lyrics not found.</td>\n",
              "    </tr>\n",
              "  </tbody>\n",
              "</table>\n",
              "</div>"
            ],
            "text/plain": [
              "           artist                          song  \\\n",
              "0  Diljit Dosanjh           Naina (From \"Crew\")   \n",
              "1  Aashir Wajahat                        Sadqay   \n",
              "2    Charly Black       Gyal You a Party Animal   \n",
              "3           Shaan                You're My Love   \n",
              "4    Sushin Shyam  Illuminati - From \"Aavesham\"   \n",
              "\n",
              "                                              lyrics  \n",
              "0  Verse 1: Diljit Dosanjh Ho, ruthiya khuda-khud...  \n",
              "1  Verse 1: NAYEL تھوڑا سا تو فاصلہ رکھ آس نہ رکھ...  \n",
              "2  Intro Its Charly My girl, come flip it like a ...  \n",
              "3  Verse 1: Lizzy,  Nana  I think I’ve fallen, I ...  \n",
              "4                                  Lyrics not found.  "
            ]
          },
          "execution_count": 2,
          "metadata": {},
          "output_type": "execute_result"
        }
      ],
      "source": [
        "df = pd.read_csv('spotify_millsongdata.csv')\n",
        "df1 = pd.read_csv('playlist_songs_with_lyrics.csv')\n",
        "df.head()\n",
        "df1.head()\n"
      ]
    },
    {
      "cell_type": "code",
      "execution_count": null,
      "metadata": {
        "id": "xwF7zbTeHJl0",
        "outputId": "3538399a-d528-4c89-c17a-957bcfc7bb46"
      },
      "outputs": [
        {
          "data": {
            "text/html": [
              "<div>\n",
              "<style scoped>\n",
              "    .dataframe tbody tr th:only-of-type {\n",
              "        vertical-align: middle;\n",
              "    }\n",
              "\n",
              "    .dataframe tbody tr th {\n",
              "        vertical-align: top;\n",
              "    }\n",
              "\n",
              "    .dataframe thead th {\n",
              "        text-align: right;\n",
              "    }\n",
              "</style>\n",
              "<table border=\"1\" class=\"dataframe\">\n",
              "  <thead>\n",
              "    <tr style=\"text-align: right;\">\n",
              "      <th></th>\n",
              "      <th>artist</th>\n",
              "      <th>song</th>\n",
              "      <th>lyrics</th>\n",
              "    </tr>\n",
              "  </thead>\n",
              "  <tbody>\n",
              "    <tr>\n",
              "      <th>249</th>\n",
              "      <td>AP Dhillon</td>\n",
              "      <td>Wo Noor</td>\n",
              "      <td>Verse 1 Gahiri jihi avaaz koi Mere dil chon ma...</td>\n",
              "    </tr>\n",
              "    <tr>\n",
              "      <th>250</th>\n",
              "      <td>Hasan Raheem</td>\n",
              "      <td>Wishes</td>\n",
              "      <td>Verse 1: Hasan Raheem Too many wishes, too man...</td>\n",
              "    </tr>\n",
              "    <tr>\n",
              "      <th>251</th>\n",
              "      <td>Tiësto</td>\n",
              "      <td>Pump It Louder</td>\n",
              "      <td>Intro Ha, ha, ha Pump it Ha, ha, ha And pump i...</td>\n",
              "    </tr>\n",
              "    <tr>\n",
              "      <th>252</th>\n",
              "      <td>Seedhe Maut</td>\n",
              "      <td>Naksha</td>\n",
              "      <td>Seedhe Maut Naksha के बोल Intro हा-हा, हा-हा, ...</td>\n",
              "    </tr>\n",
              "    <tr>\n",
              "      <th>253</th>\n",
              "      <td>Travis Scott</td>\n",
              "      <td>CAN'T SAY</td>\n",
              "      <td>Chorus: Travis Scott &amp;  Don Toliver  No, you c...</td>\n",
              "    </tr>\n",
              "  </tbody>\n",
              "</table>\n",
              "</div>"
            ],
            "text/plain": [
              "           artist            song  \\\n",
              "249    AP Dhillon         Wo Noor   \n",
              "250  Hasan Raheem          Wishes   \n",
              "251        Tiësto  Pump It Louder   \n",
              "252   Seedhe Maut          Naksha   \n",
              "253  Travis Scott       CAN'T SAY   \n",
              "\n",
              "                                                lyrics  \n",
              "249  Verse 1 Gahiri jihi avaaz koi Mere dil chon ma...  \n",
              "250  Verse 1: Hasan Raheem Too many wishes, too man...  \n",
              "251  Intro Ha, ha, ha Pump it Ha, ha, ha And pump i...  \n",
              "252  Seedhe Maut Naksha के बोल Intro हा-हा, हा-हा, ...  \n",
              "253  Chorus: Travis Scott &  Don Toliver  No, you c...  "
            ]
          },
          "execution_count": 3,
          "metadata": {},
          "output_type": "execute_result"
        }
      ],
      "source": [
        "df.tail()\n",
        "df1.tail()"
      ]
    },
    {
      "cell_type": "code",
      "execution_count": null,
      "metadata": {
        "id": "dbpVoLQyHJl1",
        "outputId": "dd23f68a-e433-4271-977f-c1e1bfc14242"
      },
      "outputs": [
        {
          "name": "stdout",
          "output_type": "stream",
          "text": [
            "Shape:  (254, 3)\n"
          ]
        }
      ],
      "source": [
        "print(\"Shape: \" , df1.shape)"
      ]
    },
    {
      "cell_type": "code",
      "execution_count": null,
      "metadata": {
        "id": "G9J5iXfVHJl3",
        "outputId": "fd88e3b2-c8e8-4f60-8b89-a000164a20cc"
      },
      "outputs": [
        {
          "data": {
            "text/plain": [
              "artist    0\n",
              "song      0\n",
              "lyrics    0\n",
              "dtype: int64"
            ]
          },
          "execution_count": 5,
          "metadata": {},
          "output_type": "execute_result"
        }
      ],
      "source": [
        "df1.isnull().sum()"
      ]
    },
    {
      "cell_type": "code",
      "execution_count": null,
      "metadata": {
        "id": "uWvfIUaKHJl4"
      },
      "outputs": [],
      "source": [
        "#Down Sampling our dataset\n",
        "df = df.sample(5000).drop('link', axis=1).reset_index(drop=True)\n"
      ]
    },
    {
      "cell_type": "code",
      "execution_count": null,
      "metadata": {
        "id": "qhs_5MyQHJl4"
      },
      "outputs": [],
      "source": [
        "df1['text'] = df1['lyrics']\n",
        "df1.drop('lyrics', axis=1, inplace=True)"
      ]
    },
    {
      "cell_type": "code",
      "execution_count": null,
      "metadata": {
        "id": "KtS6TMZaHJl4",
        "outputId": "fc8b48dd-679e-47ce-94fb-718d3556e242"
      },
      "outputs": [
        {
          "data": {
            "text/html": [
              "<div>\n",
              "<style scoped>\n",
              "    .dataframe tbody tr th:only-of-type {\n",
              "        vertical-align: middle;\n",
              "    }\n",
              "\n",
              "    .dataframe tbody tr th {\n",
              "        vertical-align: top;\n",
              "    }\n",
              "\n",
              "    .dataframe thead th {\n",
              "        text-align: right;\n",
              "    }\n",
              "</style>\n",
              "<table border=\"1\" class=\"dataframe\">\n",
              "  <thead>\n",
              "    <tr style=\"text-align: right;\">\n",
              "      <th></th>\n",
              "      <th>artist</th>\n",
              "      <th>song</th>\n",
              "      <th>text</th>\n",
              "    </tr>\n",
              "  </thead>\n",
              "  <tbody>\n",
              "    <tr>\n",
              "      <th>0</th>\n",
              "      <td>Charly Black</td>\n",
              "      <td>Gyal You a Party Animal</td>\n",
              "      <td>Intro Its Charly My girl, come flip it like a ...</td>\n",
              "    </tr>\n",
              "    <tr>\n",
              "      <th>1</th>\n",
              "      <td>Shaan</td>\n",
              "      <td>You're My Love</td>\n",
              "      <td>Verse 1: Lizzy,  Nana  I think I’ve fallen, I ...</td>\n",
              "    </tr>\n",
              "    <tr>\n",
              "      <th>2</th>\n",
              "      <td>Amit Trivedi</td>\n",
              "      <td>Chokra Jawaan</td>\n",
              "      <td>Verse Uh, Im sorry for your loss Its a body de...</td>\n",
              "    </tr>\n",
              "    <tr>\n",
              "      <th>3</th>\n",
              "      <td>Yasser Desai</td>\n",
              "      <td>Makhna - From \"Drive\"</td>\n",
              "      <td>Verse 1: Royce da 59 Soon as I was born, I kne...</td>\n",
              "    </tr>\n",
              "    <tr>\n",
              "      <th>4</th>\n",
              "      <td>Yashita Sharma</td>\n",
              "      <td>Gallan Goodiyaan</td>\n",
              "      <td>Main daalun taal pe bhangra tu bhi gidda paa l...</td>\n",
              "    </tr>\n",
              "  </tbody>\n",
              "</table>\n",
              "</div>"
            ],
            "text/plain": [
              "           artist                     song  \\\n",
              "0    Charly Black  Gyal You a Party Animal   \n",
              "1           Shaan           You're My Love   \n",
              "2    Amit Trivedi            Chokra Jawaan   \n",
              "3    Yasser Desai    Makhna - From \"Drive\"   \n",
              "4  Yashita Sharma         Gallan Goodiyaan   \n",
              "\n",
              "                                                text  \n",
              "0  Intro Its Charly My girl, come flip it like a ...  \n",
              "1  Verse 1: Lizzy,  Nana  I think I’ve fallen, I ...  \n",
              "2  Verse Uh, Im sorry for your loss Its a body de...  \n",
              "3  Verse 1: Royce da 59 Soon as I was born, I kne...  \n",
              "4  Main daalun taal pe bhangra tu bhi gidda paa l...  "
            ]
          },
          "execution_count": 23,
          "metadata": {},
          "output_type": "execute_result"
        }
      ],
      "source": [
        "df1.head()\n"
      ]
    },
    {
      "cell_type": "code",
      "execution_count": null,
      "metadata": {
        "id": "zT3Ida_-HJl5",
        "outputId": "6171505c-8545-47ab-ba5a-d159091431ee"
      },
      "outputs": [
        {
          "data": {
            "text/html": [
              "<div>\n",
              "<style scoped>\n",
              "    .dataframe tbody tr th:only-of-type {\n",
              "        vertical-align: middle;\n",
              "    }\n",
              "\n",
              "    .dataframe tbody tr th {\n",
              "        vertical-align: top;\n",
              "    }\n",
              "\n",
              "    .dataframe thead th {\n",
              "        text-align: right;\n",
              "    }\n",
              "</style>\n",
              "<table border=\"1\" class=\"dataframe\">\n",
              "  <thead>\n",
              "    <tr style=\"text-align: right;\">\n",
              "      <th></th>\n",
              "      <th>artist</th>\n",
              "      <th>song</th>\n",
              "      <th>text</th>\n",
              "    </tr>\n",
              "  </thead>\n",
              "  <tbody>\n",
              "    <tr>\n",
              "      <th>0</th>\n",
              "      <td>Charly Black</td>\n",
              "      <td>Gyal You a Party Animal</td>\n",
              "      <td>Intro Its Charly My girl, come flip it like a ...</td>\n",
              "    </tr>\n",
              "    <tr>\n",
              "      <th>1</th>\n",
              "      <td>Shaan</td>\n",
              "      <td>You're My Love</td>\n",
              "      <td>Verse 1: Lizzy,  Nana  I think I’ve fallen, I ...</td>\n",
              "    </tr>\n",
              "    <tr>\n",
              "      <th>2</th>\n",
              "      <td>Amit Trivedi</td>\n",
              "      <td>Chokra Jawaan</td>\n",
              "      <td>Verse Uh, Im sorry for your loss Its a body de...</td>\n",
              "    </tr>\n",
              "    <tr>\n",
              "      <th>3</th>\n",
              "      <td>Yasser Desai</td>\n",
              "      <td>Makhna - From \"Drive\"</td>\n",
              "      <td>Verse 1: Royce da 59 Soon as I was born, I kne...</td>\n",
              "    </tr>\n",
              "    <tr>\n",
              "      <th>4</th>\n",
              "      <td>Yashita Sharma</td>\n",
              "      <td>Gallan Goodiyaan</td>\n",
              "      <td>Main daalun taal pe bhangra tu bhi gidda paa l...</td>\n",
              "    </tr>\n",
              "  </tbody>\n",
              "</table>\n",
              "</div>"
            ],
            "text/plain": [
              "           artist                     song  \\\n",
              "0    Charly Black  Gyal You a Party Animal   \n",
              "1           Shaan           You're My Love   \n",
              "2    Amit Trivedi            Chokra Jawaan   \n",
              "3    Yasser Desai    Makhna - From \"Drive\"   \n",
              "4  Yashita Sharma         Gallan Goodiyaan   \n",
              "\n",
              "                                                text  \n",
              "0  Intro Its Charly My girl, come flip it like a ...  \n",
              "1  Verse 1: Lizzy,  Nana  I think I’ve fallen, I ...  \n",
              "2  Verse Uh, Im sorry for your loss Its a body de...  \n",
              "3  Verse 1: Royce da 59 Soon as I was born, I kne...  \n",
              "4  Main daalun taal pe bhangra tu bhi gidda paa l...  "
            ]
          },
          "execution_count": 9,
          "metadata": {},
          "output_type": "execute_result"
        }
      ],
      "source": [
        "df1 = df1[df1['text'] != \"Lyrics not found.\"]\n",
        "\n",
        "df1 = df1[df1['text'].apply(lambda x: detect(x) == 'en')].reset_index(drop=True)\n",
        "\n",
        "df1.to_csv('cleaned_playlist_songs_with_lyrics.csv', index=False, encoding='utf-8')\n",
        "\n",
        "df1.head()\n"
      ]
    },
    {
      "cell_type": "markdown",
      "metadata": {
        "id": "7EcohzgCHJl6"
      },
      "source": [
        "## Text Preprocessing"
      ]
    },
    {
      "cell_type": "code",
      "execution_count": null,
      "metadata": {
        "id": "NcM722cEHJl6"
      },
      "outputs": [],
      "source": [
        "df['text']=df['text'].str.lower().replace(r'^\\w\\s', '').replace(r'\\n', '',regex=True)\n",
        "\n",
        "df1['text']=df1['text'].str.lower().replace(r'^\\w\\s', '').replace(r'\\n', '',regex=True)"
      ]
    },
    {
      "cell_type": "code",
      "execution_count": null,
      "metadata": {
        "id": "9oS9yvyAHJl7",
        "outputId": "9e69d2ef-6f37-4c14-dadf-c1dbdd66237d"
      },
      "outputs": [
        {
          "data": {
            "text/html": [
              "<div>\n",
              "<style scoped>\n",
              "    .dataframe tbody tr th:only-of-type {\n",
              "        vertical-align: middle;\n",
              "    }\n",
              "\n",
              "    .dataframe tbody tr th {\n",
              "        vertical-align: top;\n",
              "    }\n",
              "\n",
              "    .dataframe thead th {\n",
              "        text-align: right;\n",
              "    }\n",
              "</style>\n",
              "<table border=\"1\" class=\"dataframe\">\n",
              "  <thead>\n",
              "    <tr style=\"text-align: right;\">\n",
              "      <th></th>\n",
              "      <th>artist</th>\n",
              "      <th>song</th>\n",
              "      <th>text</th>\n",
              "    </tr>\n",
              "  </thead>\n",
              "  <tbody>\n",
              "    <tr>\n",
              "      <th>0</th>\n",
              "      <td>Charly Black</td>\n",
              "      <td>Gyal You a Party Animal</td>\n",
              "      <td>intro its charly my girl, come flip it like a ...</td>\n",
              "    </tr>\n",
              "    <tr>\n",
              "      <th>1</th>\n",
              "      <td>Shaan</td>\n",
              "      <td>You're My Love</td>\n",
              "      <td>verse 1: lizzy,  nana  i think i’ve fallen, i ...</td>\n",
              "    </tr>\n",
              "    <tr>\n",
              "      <th>2</th>\n",
              "      <td>Amit Trivedi</td>\n",
              "      <td>Chokra Jawaan</td>\n",
              "      <td>verse uh, im sorry for your loss its a body de...</td>\n",
              "    </tr>\n",
              "    <tr>\n",
              "      <th>3</th>\n",
              "      <td>Yasser Desai</td>\n",
              "      <td>Makhna - From \"Drive\"</td>\n",
              "      <td>verse 1: royce da 59 soon as i was born, i kne...</td>\n",
              "    </tr>\n",
              "    <tr>\n",
              "      <th>4</th>\n",
              "      <td>Yashita Sharma</td>\n",
              "      <td>Gallan Goodiyaan</td>\n",
              "      <td>main daalun taal pe bhangra tu bhi gidda paa l...</td>\n",
              "    </tr>\n",
              "  </tbody>\n",
              "</table>\n",
              "</div>"
            ],
            "text/plain": [
              "           artist                     song  \\\n",
              "0    Charly Black  Gyal You a Party Animal   \n",
              "1           Shaan           You're My Love   \n",
              "2    Amit Trivedi            Chokra Jawaan   \n",
              "3    Yasser Desai    Makhna - From \"Drive\"   \n",
              "4  Yashita Sharma         Gallan Goodiyaan   \n",
              "\n",
              "                                                text  \n",
              "0  intro its charly my girl, come flip it like a ...  \n",
              "1  verse 1: lizzy,  nana  i think i’ve fallen, i ...  \n",
              "2  verse uh, im sorry for your loss its a body de...  \n",
              "3  verse 1: royce da 59 soon as i was born, i kne...  \n",
              "4  main daalun taal pe bhangra tu bhi gidda paa l...  "
            ]
          },
          "execution_count": 37,
          "metadata": {},
          "output_type": "execute_result"
        }
      ],
      "source": [
        "df1.head()"
      ]
    },
    {
      "cell_type": "markdown",
      "metadata": {
        "id": "kg6miA7zHJl8"
      },
      "source": [
        "## Tokenization and Stemming"
      ]
    },
    {
      "cell_type": "code",
      "execution_count": null,
      "metadata": {
        "id": "kYzDTEjZHJl8",
        "outputId": "6f3f29b6-5f41-405e-ddec-30190e52110c"
      },
      "outputs": [
        {
          "name": "stderr",
          "output_type": "stream",
          "text": [
            "[nltk_data] Downloading package punkt_tab to\n",
            "[nltk_data]     C:\\Users\\omsin\\AppData\\Roaming\\nltk_data...\n",
            "[nltk_data]   Package punkt_tab is already up-to-date!\n"
          ]
        },
        {
          "data": {
            "text/plain": [
              "True"
            ]
          },
          "execution_count": 26,
          "metadata": {},
          "output_type": "execute_result"
        }
      ],
      "source": [
        "nltk.download('punkt_tab')"
      ]
    },
    {
      "cell_type": "code",
      "execution_count": null,
      "metadata": {
        "id": "T4pWPHJwHJl8"
      },
      "outputs": [],
      "source": [
        "stemmer = PorterStemmer()"
      ]
    },
    {
      "cell_type": "code",
      "execution_count": null,
      "metadata": {
        "id": "HyO-M1oWHJl9"
      },
      "outputs": [],
      "source": [
        "def token(txt):\n",
        "    token = nltk.word_tokenize(txt)\n",
        "    a = [stemmer.stem(word) for word in token]\n",
        "    return \" \".join(a)\n",
        "\n",
        "# # example\n",
        "# token(\"you are beautiful, beauty\")"
      ]
    },
    {
      "cell_type": "code",
      "execution_count": null,
      "metadata": {
        "id": "FY2Q10s6HJl9",
        "outputId": "6242a179-f00b-4e12-c4c9-70d926adb951"
      },
      "outputs": [
        {
          "data": {
            "text/plain": [
              "0     intro it charli my girl , come flip it like a ...\n",
              "1     vers 1 : lizzi , nana i think i ’ ve fallen , ...\n",
              "2     vers uh , im sorri for your loss it a bodi dea...\n",
              "3     vers 1 : royc da 59 soon as i wa born , i knew...\n",
              "4     main daalun taal pe bhangra tu bhi gidda paa l...\n",
              "                            ...                        \n",
              "58    1. playboi carti - sky 2. drake - idgaf ( feat...\n",
              "59    intro : travi scott yeah 7:30 in the night , y...\n",
              "60    part i intro : drake astro , yeah vers : drake...\n",
              "61    intro ha , ha , ha pump it ha , ha , ha and pu...\n",
              "62    choru : travi scott & don toliv no , you cant ...\n",
              "Name: text, Length: 63, dtype: object"
            ]
          },
          "execution_count": 29,
          "metadata": {},
          "output_type": "execute_result"
        }
      ],
      "source": [
        "df1['text'].apply(lambda x: token(x))"
      ]
    },
    {
      "cell_type": "markdown",
      "metadata": {
        "id": "Wk3QZMxWHJl9"
      },
      "source": [
        "## Vectorization and Calculating Cosine Similarity"
      ]
    },
    {
      "cell_type": "code",
      "execution_count": null,
      "metadata": {
        "id": "-If2fMgrHJl-"
      },
      "outputs": [],
      "source": [
        "tfid = TfidfVectorizer(analyzer='word', stop_words='english')"
      ]
    },
    {
      "cell_type": "code",
      "execution_count": null,
      "metadata": {
        "id": "AsJChz7QHJl-"
      },
      "outputs": [],
      "source": [
        "matrix = tfid.fit_transform(df1['text'])"
      ]
    },
    {
      "cell_type": "code",
      "execution_count": null,
      "metadata": {
        "id": "k7UPL4fgHJl-"
      },
      "outputs": [],
      "source": [
        "similar = cosine_similarity(matrix)"
      ]
    },
    {
      "cell_type": "code",
      "execution_count": null,
      "metadata": {
        "id": "wXEo8p1qHJl-",
        "outputId": "623418c2-47f3-4622-ac1c-fdc91ba3706a"
      },
      "outputs": [
        {
          "data": {
            "text/plain": [
              "array([1.        , 0.01356447, 0.04119696, 0.02611811, 0.00821515,\n",
              "       0.00522939, 0.02998058, 0.03317055, 0.01386294, 0.02277433,\n",
              "       0.01639878, 0.04513396, 0.02558494, 0.04624154, 0.03848879,\n",
              "       0.01428135, 0.04128622, 0.02083569, 0.0201196 , 0.0390649 ,\n",
              "       0.01161515, 0.01246002, 0.01117525, 0.02073865, 0.01562723,\n",
              "       0.00506569, 0.03187806, 0.01007706, 0.01138477, 0.01318946,\n",
              "       0.03474786, 0.00427473, 0.00602534, 0.01070103, 0.00675479,\n",
              "       0.01422026, 0.04408317, 0.02153205, 0.01516914, 0.01707134,\n",
              "       0.01095312, 0.06100638, 0.03373349, 0.00409023, 0.03450407,\n",
              "       0.04381564, 0.02917534, 0.02185619, 0.02655975, 0.00943678,\n",
              "       0.00298968, 0.01365851, 0.02558898, 0.02047273, 0.00683095,\n",
              "       0.00241096, 0.01601782, 0.03188972, 0.        , 0.02060198,\n",
              "       0.0266025 , 0.0072275 , 0.01098103])"
            ]
          },
          "execution_count": 51,
          "metadata": {},
          "output_type": "execute_result"
        }
      ],
      "source": [
        "similar[0]"
      ]
    },
    {
      "cell_type": "markdown",
      "metadata": {
        "id": "lq1735u6HJl-"
      },
      "source": [
        "## Recommender Function"
      ]
    },
    {
      "cell_type": "code",
      "execution_count": null,
      "metadata": {
        "id": "DzJyD0q2HJl_"
      },
      "outputs": [],
      "source": [
        "def recommender(song_name):\n",
        "    if song_name not in df1['song'].values:\n",
        "        return f\"Error: '{song_name}' not found in the dataset.\"\n",
        "\n",
        "    idx = df1[df1['song'] == song_name].index[0]\n",
        "    distance = sorted(list(enumerate(similar[idx])), key=lambda x: x[1], reverse=True)\n",
        "    recommended_songs = []\n",
        "\n",
        "    for i in distance[1:6]:\n",
        "        recommended_songs.append(df1.iloc[i[0]]['song'])\n",
        "\n",
        "    return recommended_songs"
      ]
    },
    {
      "cell_type": "markdown",
      "metadata": {
        "id": "RztB67qPHJmA"
      },
      "source": [
        "## Pickle Dump for our Application\n"
      ]
    },
    {
      "cell_type": "code",
      "execution_count": null,
      "metadata": {
        "id": "NaI8J2gpHJmA"
      },
      "outputs": [],
      "source": [
        "pickle.dump(similar, open('similarityplay.pkl', 'wb'))\n",
        "pickle.dump(df, open('dfplay.pkl', 'wb'))"
      ]
    }
  ],
  "metadata": {
    "colab": {
      "provenance": []
    },
    "kernelspec": {
      "display_name": "myenv",
      "language": "python",
      "name": "python3"
    },
    "language_info": {
      "codemirror_mode": {
        "name": "ipython",
        "version": 3
      },
      "file_extension": ".py",
      "mimetype": "text/x-python",
      "name": "python",
      "nbconvert_exporter": "python",
      "pygments_lexer": "ipython3",
      "version": "3.12.8"
    }
  },
  "nbformat": 4,
  "nbformat_minor": 0
}
